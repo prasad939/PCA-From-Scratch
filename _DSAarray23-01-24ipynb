{
 "cells": [
  {
   "cell_type": "code",
   "execution_count": 2,
   "id": "0ee5036f-e45b-4c29-ae24-4e66bc44cb7b",
   "metadata": {},
   "outputs": [
    {
     "name": "stdout",
     "output_type": "stream",
     "text": [
      "True\n"
     ]
    }
   ],
   "source": [
    "#1. Given an array, check if it contains any duplicates or not.\n",
    "#arr = [1, 2, 4, 2, 5, 9]\n",
    "#Output = True\n",
    "#ANSWER\n",
    "#To check if an array contains duplicates, we can use a set. Sets automatically remove duplicates, so if the length of the set is less than the length of the array, it means there are duplicates.\n",
    "def contains_duplicates(arr):\n",
    "    # Convert the array to a set and compare lengths\n",
    "    return len(arr) != len(set(arr))\n",
    "\n",
    "# Example usage\n",
    "arr = [1, 2, 4, 2, 5, 9]\n",
    "print(contains_duplicates(arr))   "
   ]
  },
  {
   "cell_type": "code",
   "execution_count": 3,
   "id": "217c0446-f9ad-4d9d-bb9d-4fac1913f924",
   "metadata": {},
   "outputs": [
    {
     "name": "stdout",
     "output_type": "stream",
     "text": [
      "[5, 6, 7, 1, 2, 3, 4]\n"
     ]
    }
   ],
   "source": [
    "#2. Given an array and an integer k, rotate the array to the right by k steps.\n",
    "#arr = [1, 2, 3, 4, 5, 6, 7] k = 3\n",
    "#Output = [5, 6, 7, 1, 2, 3, 4]\n",
    "\n",
    "#To rotate an array to the right by k steps, we can use slicing. The idea is to move the last k elements to the front.\n",
    "def rotate_array(arr, k):\n",
    "    # Calculate the effective rotation steps\n",
    "    k = k % len(arr)  # Handle cases where k > len(arr)\n",
    "    # Rotate the array using slicing\n",
    "    return arr[-k:] + arr[:-k]\n",
    "\n",
    "# Example usage\n",
    "arr = [1, 2, 3, 4, 5, 6, 7]\n",
    "k = 3\n",
    "print(rotate_array(arr, k))  "
   ]
  },
  {
   "cell_type": "code",
   "execution_count": 4,
   "id": "05c278ae-069c-4057-8353-a9a1b4dc4efd",
   "metadata": {},
   "outputs": [
    {
     "name": "stdout",
     "output_type": "stream",
     "text": [
      "[12, 9, 7, 5, 4, 2]\n"
     ]
    }
   ],
   "source": [
    "#3. Reverse the given array in-place, means without using any extra data structure.\n",
    "#arr = [2, 4, 5, 7, 9, 12]\n",
    "#Output = [12, 9, 7, 5, 4, 2]\n",
    "\n",
    "#To reverse an array in-place, we can swap elements from the start and end moving towards the center.\n",
    "def reverse_array_in_place(arr):\n",
    "    # Initialize two pointers\n",
    "    left, right = 0, len(arr) - 1\n",
    "    # Swap elements until the pointers meet\n",
    "    while left < right:\n",
    "        arr[left], arr[right] = arr[right], arr[left]\n",
    "        left += 1\n",
    "        right -= 1\n",
    "    return arr\n",
    "\n",
    "# Example usage\n",
    "arr = [2, 4, 5, 7, 9, 12]\n",
    "print(reverse_array_in_place(arr))  "
   ]
  },
  {
   "cell_type": "code",
   "execution_count": 5,
   "id": "ce72a7d2-6ae1-4019-be76-59e622d5f20f",
   "metadata": {},
   "outputs": [
    {
     "name": "stdout",
     "output_type": "stream",
     "text": [
      "20\n"
     ]
    }
   ],
   "source": [
    "#4. Given an array of integers, find the maximum element in an array\n",
    "#arr = [10, 5, 20, 8, 15]\n",
    "#Output = 20\n",
    "#To find the maximum element in an array, we can simply use the built-in max() function or iterate through the array.\n",
    "def find_max_element(arr):\n",
    "    # Initialize max_element with the first element\n",
    "    max_element = arr[0]\n",
    "    # Iterate through the array to find the maximum element\n",
    "    for num in arr:\n",
    "        if num > max_element:\n",
    "            max_element = num\n",
    "    return max_element\n",
    "\n",
    "# Example usage\n",
    "arr = [10, 5, 20, 8, 15]\n",
    "print(find_max_element(arr))   \n"
   ]
  },
  {
   "cell_type": "code",
   "execution_count": 6,
   "id": "03898c13-2ea7-4555-8fa1-374f976a74e3",
   "metadata": {},
   "outputs": [
    {
     "name": "stdout",
     "output_type": "stream",
     "text": [
      "[1, 2, 3, 4, 5]\n"
     ]
    }
   ],
   "source": [
    "#5. Given a sorted array, remove the duplicate element without using any extra data structure.\n",
    "#arr = [1, 1, 2, 2, 2, 3, 3, 4, 4, 4, 5, 5]\n",
    "#Output = [1, 2, 3, 4, 5]\n",
    "\n",
    "#To remove duplicates from a sorted array in-place, we can use a two-pointer technique.\n",
    "#One pointer keeps track of the current element, and the other pointer keeps track of the position where the next unique element should be placed\n",
    "def remove_duplicates_in_place(arr):\n",
    "    # Edge case: if the array is empty, return it\n",
    "    if not arr:\n",
    "        return arr\n",
    "    \n",
    "    # Initialize the pointer for unique elements\n",
    "    unique_ptr = 0\n",
    "    \n",
    "    # Iterate through the array\n",
    "    for i in range(1, len(arr)):\n",
    "        # If the current element is different from the last unique element\n",
    "        if arr[i] != arr[unique_ptr]:\n",
    "            unique_ptr += 1\n",
    "            arr[unique_ptr] = arr[i]\n",
    "    \n",
    "    # Slice the array to remove the duplicates\n",
    "    return arr[:unique_ptr + 1]\n",
    "\n",
    "# Example usage\n",
    "arr = [1, 1, 2, 2, 2, 3, 3, 4, 4, 4, 5, 5]\n",
    "print(remove_duplicates_in_place(arr))  \n"
   ]
  },
  {
   "cell_type": "code",
   "execution_count": null,
   "id": "e4fa66be-806e-47a8-b883-09f0056b4ca0",
   "metadata": {},
   "outputs": [],
   "source": []
  }
 ],
 "metadata": {
  "kernelspec": {
   "display_name": "Python 3 (ipykernel)",
   "language": "python",
   "name": "python3"
  },
  "language_info": {
   "codemirror_mode": {
    "name": "ipython",
    "version": 3
   },
   "file_extension": ".py",
   "mimetype": "text/x-python",
   "name": "python",
   "nbconvert_exporter": "python",
   "pygments_lexer": "ipython3",
   "version": "3.11.7"
  }
 },
 "nbformat": 4,
 "nbformat_minor": 5
}
